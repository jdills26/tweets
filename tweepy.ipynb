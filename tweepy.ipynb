{
 "cells": [
  {
   "cell_type": "code",
   "execution_count": 33,
   "metadata": {
    "collapsed": false,
    "scrolled": true
   },
   "outputs": [
    {
     "name": "stdout",
     "output_type": "stream",
     "text": [
      "getting tweets before 737212502598143999\n",
      "...400 tweets downloaded so far\n",
      "getting tweets before 725329691364745215\n",
      "...600 tweets downloaded so far\n",
      "getting tweets before 715106805517533183\n",
      "...800 tweets downloaded so far\n",
      "CSV written\n"
     ]
    }
   ],
   "source": [
    "import tweepy #https://github.com/tweepy/tweepy\n",
    "import csv\n",
    "import pandas as pd\n",
    "\n",
    "try: import simplejson as json\n",
    "except ImportError: import json\n",
    "\n",
    "#Twitter API credentials\n",
    "ckey=\"\"\n",
    "csecret=\"\"\n",
    "atoken=\"\"\n",
    "asecret=\"\"\n",
    "\n",
    "def get_all_tweets(screen_name):\n",
    "   \n",
    "   try: \n",
    "   \n",
    "   #Twitter only allows access to a users most recent 3240 tweets with this method\n",
    "   \n",
    "   #authorize twitter, initialize tweepy\n",
    "       auth = tweepy.OAuthHandler(ckey, csecret)\n",
    "       auth.set_access_token(atoken, asecret)\n",
    "       api = tweepy.API(auth)\n",
    "   \n",
    "   #initialize a list to hold all the tweepy Tweets\n",
    "       alltweets = []    \n",
    "   \n",
    "   #make initial request for most recent tweets (200 is the maximum allowed count)\n",
    "       new_tweets = api.user_timeline(screen_name = screen_name,count=200, include_rts=True)\n",
    "   \n",
    "   #save most recent tweets\n",
    "       alltweets.extend(new_tweets)\n",
    "   \n",
    "   #save the id of the oldest tweet less one\n",
    "       oldest = alltweets[-1].id - 1\n",
    "   \n",
    "   #keep grabbing tweets until there are no tweets left to grab\n",
    "       #while len(new_tweets) > 0:\n",
    "       for i in range(0, 3):\n",
    "           print(\"getting tweets before %d\" % (oldest))\n",
    "           \n",
    "       \n",
    "       #all subsiquent requests use the max_id param to prevent duplicates\n",
    "           new_tweets = api.user_timeline(screen_name = screen_name,count=200,max_id=oldest)\n",
    "       \n",
    "       #save most recent tweets\n",
    "           alltweets.extend(new_tweets)\n",
    "       \n",
    "       #update the id of the oldest tweet less one\n",
    "           oldest = alltweets[-1].id - 1\n",
    "       \n",
    "           print ((\"...%s tweets downloaded so far\") % (len(alltweets)))\n",
    "   \n",
    "   #transform the tweepy tweets into a 2D array that will populate the csv    \n",
    "       outtweets = [[tweet.id_str, tweet.created_at, tweet.text] for tweet in alltweets]\n",
    "   \n",
    "\n",
    "   except TweepError as e:\n",
    "       if 'Failed to send request:' in e.reason:\n",
    "           print (\"Time out error caught.\")\n",
    "           time.sleep(180) \n",
    "           pass\n",
    "\n",
    "   return outtweets\n",
    "\n",
    "\n",
    "if __name__ == '__main__':\n",
    "   #pass in the username of the account you want to download\n",
    "   df = get_all_tweets(\"NewClimateEcon\")\n",
    "\n",
    "   #write the csv    \n",
    "   with open('%s_tweets.csv' % 'screen_name', 'w') as f:\n",
    "       writer = csv.writer(f)\n",
    "       writer.writerow([\"id\",\"created_at\",\"text\"])\n",
    "       writer.writerows(df)\n",
    "\n",
    "   #outtweets.to_csv('outtweets.csv')\n",
    "   print('CSV written')"
   ]
  },
  {
   "cell_type": "code",
   "execution_count": 27,
   "metadata": {
    "collapsed": true
   },
   "outputs": [],
   "source": [
    "%matplotlib inline\n",
    "import matplotlib.pyplot as plt"
   ]
  },
  {
   "cell_type": "code",
   "execution_count": 34,
   "metadata": {
    "collapsed": false
   },
   "outputs": [],
   "source": [
    "df=pd.read_csv('screen_name_tweets.csv')"
   ]
  },
  {
   "cell_type": "code",
   "execution_count": 31,
   "metadata": {
    "collapsed": false
   },
   "outputs": [
    {
     "data": {
      "text/plain": [
       "800"
      ]
     },
     "execution_count": 31,
     "metadata": {},
     "output_type": "execute_result"
    }
   ],
   "source": [
    "len(df)"
   ]
  },
  {
   "cell_type": "code",
   "execution_count": 44,
   "metadata": {
    "collapsed": false
   },
   "outputs": [
    {
     "data": {
      "text/html": [
       "<div>\n",
       "<table border=\"1\" class=\"dataframe\">\n",
       "  <thead>\n",
       "    <tr style=\"text-align: right;\">\n",
       "      <th></th>\n",
       "      <th>id</th>\n",
       "      <th>created_at</th>\n",
       "      <th>text</th>\n",
       "    </tr>\n",
       "  </thead>\n",
       "  <tbody>\n",
       "    <tr>\n",
       "      <th>0</th>\n",
       "      <td>756037281790713856</td>\n",
       "      <td>2016-07-21 08:05:09</td>\n",
       "      <td>Circular Economy: 3 Considerations When Solvin...</td>\n",
       "    </tr>\n",
       "    <tr>\n",
       "      <th>1</th>\n",
       "      <td>755795290356125696</td>\n",
       "      <td>2016-07-20 16:03:33</td>\n",
       "      <td>Las Vegas Now Home to the US's Largest Rooftop...</td>\n",
       "    </tr>\n",
       "    <tr>\n",
       "      <th>2</th>\n",
       "      <td>755777057422974976</td>\n",
       "      <td>2016-07-20 14:51:06</td>\n",
       "      <td>UN chief calls for quick ratification of Paris...</td>\n",
       "    </tr>\n",
       "    <tr>\n",
       "      <th>3</th>\n",
       "      <td>755448628928507904</td>\n",
       "      <td>2016-07-19 17:06:03</td>\n",
       "      <td>The world is poised to take action on HFCs thi...</td>\n",
       "    </tr>\n",
       "    <tr>\n",
       "      <th>4</th>\n",
       "      <td>755432741219565568</td>\n",
       "      <td>2016-07-19 16:02:55</td>\n",
       "      <td>Lord Stern: Departmental merger a chance to em...</td>\n",
       "    </tr>\n",
       "  </tbody>\n",
       "</table>\n",
       "</div>"
      ],
      "text/plain": [
       "                   id          created_at  \\\n",
       "0  756037281790713856 2016-07-21 08:05:09   \n",
       "1  755795290356125696 2016-07-20 16:03:33   \n",
       "2  755777057422974976 2016-07-20 14:51:06   \n",
       "3  755448628928507904 2016-07-19 17:06:03   \n",
       "4  755432741219565568 2016-07-19 16:02:55   \n",
       "\n",
       "                                                text  \n",
       "0  Circular Economy: 3 Considerations When Solvin...  \n",
       "1  Las Vegas Now Home to the US's Largest Rooftop...  \n",
       "2  UN chief calls for quick ratification of Paris...  \n",
       "3  The world is poised to take action on HFCs thi...  \n",
       "4  Lord Stern: Departmental merger a chance to em...  "
      ]
     },
     "execution_count": 44,
     "metadata": {},
     "output_type": "execute_result"
    }
   ],
   "source": [
    "df.head()"
   ]
  },
  {
   "cell_type": "code",
   "execution_count": 35,
   "metadata": {
    "collapsed": false
   },
   "outputs": [],
   "source": [
    "df['created_at'] = pd.to_datetime(df['created_at'])"
   ]
  },
  {
   "cell_type": "code",
   "execution_count": 36,
   "metadata": {
    "collapsed": false
   },
   "outputs": [
    {
     "data": {
      "text/plain": [
       "<matplotlib.axes._subplots.AxesSubplot at 0x117bef8d0>"
      ]
     },
     "execution_count": 36,
     "metadata": {},
     "output_type": "execute_result"
    },
    {
     "data": {
      "image/png": "[encoded data removed]",
      "text/plain": [
       "<matplotlib.figure.Figure at 0x10446f0f0>"
      ]
     },
     "metadata": {},
     "output_type": "display_data"
    }
   ],
   "source": [
    "df['created_at'].dt.month.value_counts().sort_index().plot(kind='bar')"
   ]
  },
  {
   "cell_type": "code",
   "execution_count": 37,
   "metadata": {
    "collapsed": false
   },
   "outputs": [
    {
     "data": {
      "text/plain": [
       "<matplotlib.axes._subplots.AxesSubplot at 0x11863c278>"
      ]
     },
     "execution_count": 37,
     "metadata": {},
     "output_type": "execute_result"
    },
    {
     "data": {
      "image/png": "[encoded data removed]",
      "text/plain": [
       "<matplotlib.figure.Figure at 0x11863b4e0>"
      ]
     },
     "metadata": {},
     "output_type": "display_data"
    }
   ],
   "source": [
    "df['created_at'].dt.day.value_counts().sort_index().plot(kind='bar')"
   ]
  },
  {
   "cell_type": "code",
   "execution_count": 38,
   "metadata": {
    "collapsed": false
   },
   "outputs": [
    {
     "data": {
      "text/plain": [
       "<matplotlib.axes._subplots.AxesSubplot at 0x118add668>"
      ]
     },
     "execution_count": 38,
     "metadata": {},
     "output_type": "execute_result"
    },
    {
     "data": {
      "image/png": "[encoded data removed]",
      "text/plain": [
       "<matplotlib.figure.Figure at 0x118ade4a8>"
      ]
     },
     "metadata": {},
     "output_type": "display_data"
    }
   ],
   "source": [
    "(df[(df.created_at.dt.dayofweek>=5)].created_at.dt.hour.value_counts()/2).sort_index().plot()\n",
    "(df[(df.created_at.dt.dayofweek<5)].created_at.dt.hour.value_counts()/5).sort_index().plot()"
   ]
  },
  {
   "cell_type": "code",
   "execution_count": 39,
   "metadata": {
    "collapsed": false
   },
   "outputs": [
    {
     "name": "stdout",
     "output_type": "stream",
     "text": [
      "61.0\n",
      "135.6\n"
     ]
    }
   ],
   "source": [
    "print(len(df[(df.created_at.dt.dayofweek>=5)])/2)\n",
    "print(len(df[(df.created_at.dt.dayofweek<5)])/5)"
   ]
  },
  {
   "cell_type": "code",
   "execution_count": 40,
   "metadata": {
    "collapsed": false
   },
   "outputs": [
    {
     "data": {
      "text/plain": [
       "<matplotlib.legend.Legend at 0x118a79a20>"
      ]
     },
     "execution_count": 40,
     "metadata": {},
     "output_type": "execute_result"
    },
    {
     "data": {
      "image/png": "[encoded data removed]",
      "text/plain": [
       "<matplotlib.figure.Figure at 0x118cc1828>"
      ]
     },
     "metadata": {},
     "output_type": "display_data"
    }
   ],
   "source": [
    "(df[(df.created_at.dt.dayofweek==0)].created_at.dt.hour.value_counts()/2).sort_index().plot()\n",
    "(df[(df.created_at.dt.dayofweek==1)].created_at.dt.hour.value_counts()/2).sort_index().plot()\n",
    "(df[(df.created_at.dt.dayofweek==2)].created_at.dt.hour.value_counts()/5).sort_index().plot()\n",
    "(df[(df.created_at.dt.dayofweek==3)].created_at.dt.hour.value_counts()/2).sort_index().plot()\n",
    "(df[(df.created_at.dt.dayofweek==4)].created_at.dt.hour.value_counts()/5).sort_index().plot()\n",
    "(df[(df.created_at.dt.dayofweek==5)].created_at.dt.hour.value_counts()/2).sort_index().plot()\n",
    "(df[(df.created_at.dt.dayofweek==6)].created_at.dt.hour.value_counts()/5).sort_index().plot()\n",
    "\n",
    "plt.legend(['m','t','w','th','f','s','sn'])"
   ]
  },
  {
   "cell_type": "code",
   "execution_count": null,
   "metadata": {
    "collapsed": true
   },
   "outputs": [],
   "source": [
    "##text processing##"
   ]
  },
  {
   "cell_type": "code",
   "execution_count": 42,
   "metadata": {
    "collapsed": false,
    "scrolled": true
   },
   "outputs": [
    {
     "name": "stdout",
     "output_type": "stream",
     "text": [
      "[nltk_data] Downloading package stopwords to\n",
      "[nltk_data]     /Users/juliadills/nltk_data...\n",
      "[nltk_data]   Unzipping corpora/stopwords.zip.\n"
     ]
    }
   ],
   "source": [
    "import nltk\n",
    "nltk.download(\"stopwords\")\n",
    "import string\n",
    " \n",
    "punctuation = list(string.punctuation)\n",
    "stop = stopwords.words('english') + punctuation + ['rt', 'via']\n"
   ]
  },
  {
   "cell_type": "code",
   "execution_count": 56,
   "metadata": {
    "collapsed": false
   },
   "outputs": [],
   "source": [
    "df['text'] = df['text'].str.lower().str.split()\n",
    "df['text']= df['text'].apply(lambda x: [item for item in x if item not in stop])"
   ]
  },
  {
   "cell_type": "code",
   "execution_count": 59,
   "metadata": {
    "collapsed": false
   },
   "outputs": [
    {
     "data": {
      "text/plain": [
       "10"
      ]
     },
     "execution_count": 59,
     "metadata": {},
     "output_type": "execute_result"
    }
   ],
   "source": [
    "len(df['text'][0])"
   ]
  },
  {
   "cell_type": "code",
   "execution_count": 64,
   "metadata": {
    "collapsed": false
   },
   "outputs": [],
   "source": [
    "#df.text.apply(lambda x: pd.value_counts(x.split(\" \"))).sum(axis = 0)"
   ]
  },
  {
   "cell_type": "code",
   "execution_count": 65,
   "metadata": {
    "collapsed": false
   },
   "outputs": [
    {
     "name": "stdout",
     "output_type": "stream",
     "text": [
      "22\n"
     ]
    }
   ],
   "source": [
    "#what is the length of the longest tweet\n",
    "import numpy as np\n",
    "print (df.text.map(lambda x: len(x)).max())"
   ]
  },
  {
   "cell_type": "code",
   "execution_count": 66,
   "metadata": {
    "collapsed": true
   },
   "outputs": [],
   "source": [
    "df['word_count']=df.text.map(lambda x: len(x))"
   ]
  },
  {
   "cell_type": "code",
   "execution_count": 67,
   "metadata": {
    "collapsed": false,
    "scrolled": false
   },
   "outputs": [
    {
     "data": {
      "text/html": [
       "<div>\n",
       "<table border=\"1\" class=\"dataframe\">\n",
       "  <thead>\n",
       "    <tr style=\"text-align: right;\">\n",
       "      <th></th>\n",
       "      <th>id</th>\n",
       "      <th>created_at</th>\n",
       "      <th>text</th>\n",
       "      <th>word_count</th>\n",
       "    </tr>\n",
       "  </thead>\n",
       "  <tbody>\n",
       "    <tr>\n",
       "      <th>0</th>\n",
       "      <td>756037281790713856</td>\n",
       "      <td>2016-07-21 08:05:09</td>\n",
       "      <td>[circular, economy:, 3, considerations, solvin...</td>\n",
       "      <td>10</td>\n",
       "    </tr>\n",
       "    <tr>\n",
       "      <th>1</th>\n",
       "      <td>755795290356125696</td>\n",
       "      <td>2016-07-20 16:03:33</td>\n",
       "      <td>[las, vegas, home, us's, largest, rooftop, #so...</td>\n",
       "      <td>10</td>\n",
       "    </tr>\n",
       "    <tr>\n",
       "      <th>2</th>\n",
       "      <td>755777057422974976</td>\n",
       "      <td>2016-07-20 14:51:06</td>\n",
       "      <td>[un, chief, calls, quick, ratification, paris,...</td>\n",
       "      <td>10</td>\n",
       "    </tr>\n",
       "    <tr>\n",
       "      <th>3</th>\n",
       "      <td>755448628928507904</td>\n",
       "      <td>2016-07-19 17:06:03</td>\n",
       "      <td>[world, poised, take, action, hfcs, week, http...</td>\n",
       "      <td>9</td>\n",
       "    </tr>\n",
       "    <tr>\n",
       "      <th>4</th>\n",
       "      <td>755432741219565568</td>\n",
       "      <td>2016-07-19 16:02:55</td>\n",
       "      <td>[lord, stern:, departmental, merger, chance, e...</td>\n",
       "      <td>13</td>\n",
       "    </tr>\n",
       "  </tbody>\n",
       "</table>\n",
       "</div>"
      ],
      "text/plain": [
       "                   id          created_at  \\\n",
       "0  756037281790713856 2016-07-21 08:05:09   \n",
       "1  755795290356125696 2016-07-20 16:03:33   \n",
       "2  755777057422974976 2016-07-20 14:51:06   \n",
       "3  755448628928507904 2016-07-19 17:06:03   \n",
       "4  755432741219565568 2016-07-19 16:02:55   \n",
       "\n",
       "                                                text  word_count  \n",
       "0  [circular, economy:, 3, considerations, solvin...          10  \n",
       "1  [las, vegas, home, us's, largest, rooftop, #so...          10  \n",
       "2  [un, chief, calls, quick, ratification, paris,...          10  \n",
       "3  [world, poised, take, action, hfcs, week, http...           9  \n",
       "4  [lord, stern:, departmental, merger, chance, e...          13  "
      ]
     },
     "execution_count": 67,
     "metadata": {},
     "output_type": "execute_result"
    }
   ],
   "source": [
    "#take a look\n",
    "df.head()"
   ]
  },
  {
   "cell_type": "code",
   "execution_count": null,
   "metadata": {
    "collapsed": true
   },
   "outputs": [],
   "source": [
    "#look into doing a sentiment analysis soon"
   ]
  }
 ],
 "metadata": {
  "kernelspec": {
   "display_name": "Python 3",
   "language": "python",
   "name": "python3"
  },
  "language_info": {
   "codemirror_mode": {
    "name": "ipython",
    "version": 3
   },
   "file_extension": ".py",
   "mimetype": "text/x-python",
   "name": "python",
   "nbconvert_exporter": "python",
   "pygments_lexer": "ipython3",
   "version": "3.5.1"
  }
 },
 "nbformat": 4,
 "nbformat_minor": 0
}
